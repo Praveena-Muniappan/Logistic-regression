{
  "cells": [
    {
      "cell_type": "markdown",
      "metadata": {
        "id": "Wz-LXqmp6yRs"
      },
      "source": [
        "CH.SC.U4CSE23234"
      ]
    },
    {
      "cell_type": "code",
      "execution_count": 2,
      "metadata": {
        "colab": {
          "base_uri": "https://localhost:8080/"
        },
        "id": "idtRZe-O6v1Q",
        "outputId": "af09f7bf-7a5d-4f72-b702-46dbebaec8d6"
      },
      "outputs": [
        {
          "name": "stdout",
          "output_type": "stream",
          "text": [
            "Original DataFrame:\n",
            "                    1      2      3\n",
            "Climate         0.190  0.017  0.207\n",
            "Housing         0.544  0.020  0.204\n",
            "Health          0.782 -0.605  0.144\n",
            "Crime           0.365  0.294  0.585\n",
            "Transportation  0.585  0.065  0.234\n",
            "Education       0.394 -0.273  0.027\n",
            "Arts            0.085  0.126 -0.111\n",
            "Recreation      0.520  0.402  0.519\n",
            "Economy         0.142  0.150  0.239\n",
            "\n",
            "Principal Component Loadings:\n",
            "                     PC1       PC2       PC3\n",
            "Climate         0.404362  0.133417 -0.084882\n",
            "Housing         0.358892 -0.282142  0.863186\n",
            "Health          0.395917 -0.172732 -0.264107\n",
            "Crime           0.234616  0.459298 -0.129052\n",
            "Transportation  0.352574 -0.295989 -0.157631\n",
            "Education       0.380323 -0.226699 -0.274786\n",
            "Arts           -0.208670 -0.481080 -0.164187\n",
            "Recreation      0.411604  0.085307 -0.083215\n",
            "Economy         0.118228  0.532999  0.164504\n",
            "\n",
            "Explained Variance Ratio:\n",
            "[6.40393738e-01 3.59606262e-01 6.85012860e-33]\n"
          ]
        }
      ],
      "source": [
        "\n",
        "\n",
        "import pandas as pd\n",
        "import numpy as np\n",
        "from sklearn.preprocessing import StandardScaler\n",
        "from sklearn.decomposition import PCA\n",
        "\n",
        "data = {\n",
        "    'Climate': [0.190, 0.017, 0.207],\n",
        "    'Housing': [0.544, 0.020, 0.204],\n",
        "    'Health': [0.782, -0.605, 0.144],\n",
        "    'Crime': [0.365, 0.294, 0.585],\n",
        "    'Transportation': [0.585, 0.065, 0.234],\n",
        "    'Education': [0.394, -0.273, 0.027],\n",
        "    'Arts': [0.085, 0.126, -0.111],\n",
        "    'Recreation': [0.520, 0.402, 0.519],\n",
        "    'Economy': [0.142, 0.150, 0.239]\n",
        "}\n",
        "\n",
        "df = pd.DataFrame.from_dict(data, orient='index', columns=['1', '2', '3'])\n",
        "print(\"Original DataFrame:\")\n",
        "print(df)\n",
        "\n",
        "df_T = df.T\n",
        "\n",
        "scaler = StandardScaler()\n",
        "scaled_data = scaler.fit_transform(df_T)\n",
        "\n",
        "pca = PCA(n_components=3)\n",
        "pca.fit(scaled_data)\n",
        "\n",
        "loadings_df = pd.DataFrame(pca.components_.T,\n",
        "                           index=df_T.columns,\n",
        "                           columns=['PC1', 'PC2', 'PC3'])\n",
        "\n",
        "print(\"\\nPrincipal Component Loadings:\")\n",
        "print(loadings_df)\n",
        "\n",
        "print(\"\\nExplained Variance Ratio:\")\n",
        "print(pca.explained_variance_ratio_)\n"
      ]
    }
  ],
  "metadata": {
    "colab": {
      "provenance": []
    },
    "kernelspec": {
      "display_name": "Python 3",
      "name": "python3"
    },
    "language_info": {
      "name": "python"
    }
  },
  "nbformat": 4,
  "nbformat_minor": 0
}
